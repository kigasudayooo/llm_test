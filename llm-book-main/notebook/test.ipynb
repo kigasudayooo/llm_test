{
 "cells": [
  {
   "cell_type": "code",
   "execution_count": null,
   "metadata": {},
   "outputs": [],
   "source": [
    "from transformers import pipeline"
   ]
  },
  {
   "cell_type": "code",
   "execution_count": null,
   "metadata": {},
   "outputs": [],
   "source": [
    "text_sim_pipeline = pipeline(\n",
    "    model=\"llm-book/bert-base-japanese-v3-jsts\",\n",
    "    function_to_apply=\"none\",\n",
    ")\n",
    "\n",
    "text = \"川べりでサーフボードを持った人たちがいます\"\n",
    "sim_text = \"サーファーたちが川べりに立っています\"\n",
    "result = text_sim_pipeline({\"text\": text, \"text_pair\": sim_text})\n",
    "print(result[\"score\"])"
   ]
  },
  {
   "cell_type": "code",
   "execution_count": null,
   "metadata": {},
   "outputs": [],
   "source": [
    "from torch.nn.functional import cosine_similarity\n",
    "\n",
    "sim_enc_pipeline = pipeline(\n",
    "    model=\"llm-book/bert-base-japanese-v3-unsup-simcse-jawiki\",\n",
    "    task=\"feature-extraction\",\n",
    ")\n",
    "text_emb = sim_enc_pipeline(text, return_tensors=True)[0][0]\n",
    "sim_emb = sim_enc_pipeline(sim_text, return_tensors=True)[0][0]\n",
    "sim_pair_score = cosine_similarity(text_emb, sim_emb, dim=0)\n",
    "print(sim_pair_score.item())\n"
   ]
  }
 ],
 "metadata": {
  "kernelspec": {
   "display_name": ".venv",
   "language": "python",
   "name": "python3"
  },
  "language_info": {
   "codemirror_mode": {
    "name": "ipython",
    "version": 3
   },
   "file_extension": ".py",
   "mimetype": "text/x-python",
   "name": "python",
   "nbconvert_exporter": "python",
   "pygments_lexer": "ipython3",
   "version": "3.11.8"
  }
 },
 "nbformat": 4,
 "nbformat_minor": 2
}
